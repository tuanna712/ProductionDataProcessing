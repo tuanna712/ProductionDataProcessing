{
 "cells": [
  {
   "cell_type": "markdown",
   "id": "6328a92d",
   "metadata": {},
   "source": [
    "### Field Tables"
   ]
  },
  {
   "cell_type": "code",
   "execution_count": null,
   "id": "e358f163",
   "metadata": {},
   "outputs": [],
   "source": [
    "import pandas as pd\n",
    "\n",
    "def load_daily_field_data(file_path, prod_type):\n",
    "    daily_df = pd.read_csv(file_path, sep=';', skiprows=0, header=None)\n",
    "    daily_df.columns = daily_df.iloc[0]\n",
    "    daily_df = daily_df[1:]\n",
    "    daily_df.reset_index(drop=True, inplace=True)\n",
    "    daily_df = daily_df.loc[:, ~daily_df.columns.str.contains('desc|name_on_file', case=False)]\n",
    "    if prod_type == 'GAS_PROD':\n",
    "        daily_df['conversion_factor'] = 35.314666721\n",
    "    elif prod_type == 'OIL_PROD':\n",
    "        daily_df['conversion_factor'] = daily_df['conversion_factor'].str.replace(',', '.').astype(float)\n",
    "    daily_df['prod_type'] = prod_type\n",
    "    return daily_df\n",
    "\n",
    "daily_gas_file_path = \"data/formatted/csv/def_daily_gas_field.csv\"\n",
    "def_daily_gas_field = load_daily_field_data(daily_gas_file_path, prod_type='GAS_PROD')\n",
    "\n",
    "daily_oil_file_path = \"data/formatted/csv/def_daily_oil_field.csv\"\n",
    "def_daily_oil_field = load_daily_field_data(daily_oil_file_path, prod_type='OIL_PROD')"
   ]
  },
  {
   "cell_type": "code",
   "execution_count": 251,
   "id": "5f710b78",
   "metadata": {},
   "outputs": [],
   "source": [
    "def load_plan_field_data(file_path, prod_type):\n",
    "    plan_df = pd.read_csv(file_path, sep=';', skiprows=0, header=0,\n",
    "                           usecols=[1, 2])\n",
    "    plan_df.dropna(how='all', inplace=True)\n",
    "    if prod_type == 'GAS_PLAN':\n",
    "        plan_df['unit'] = 'tr.m3'\n",
    "        plan_df['conversion_factor'] = 35.314666721\n",
    "    elif prod_type == 'OIL_PLAN':\n",
    "        plan_df['unit'] = 'tr.tons'\n",
    "        plan_df['conversion_factor'] = None\n",
    "    plan_df['prod_type'] = prod_type\n",
    "    return plan_df\n",
    "\n",
    "plan_gas_file_path = \"data/formatted/csv/def_plan_gas_field.csv\"\n",
    "def_plan_gas_field = load_plan_field_data(plan_gas_file_path, prod_type='GAS_PLAN')\n",
    "\n",
    "plan_oil_file_path = \"data/formatted/csv/def_plan_oil_field.csv\"\n",
    "def_plan_oil_field = load_plan_field_data(plan_oil_file_path, prod_type='OIL_PLAN')"
   ]
  },
  {
   "cell_type": "code",
   "execution_count": null,
   "id": "cb11e2cd",
   "metadata": {},
   "outputs": [
    {
     "name": "stderr",
     "output_type": "stream",
     "text": [
      "/var/folders/r3/x33m7bkj4dxcdt5jwwgg27xc0000gn/T/ipykernel_90046/2746202307.py:2: FutureWarning: The behavior of DataFrame concatenation with empty or all-NA entries is deprecated. In a future version, this will no longer exclude empty or all-NA columns when determining the result dtypes. To retain the old behavior, exclude the relevant entries before the concat operation.\n",
      "  field_definition_df = pd.concat([def_daily_gas_field, def_daily_oil_field,\n"
     ]
    }
   ],
   "source": [
    "# Concat to main def dataframe\n",
    "field_definition_df = pd.concat([def_daily_gas_field, def_daily_oil_field,\n",
    "                    def_plan_gas_field, def_plan_oil_field], ignore_index=True)\n",
    "field_definition_df.to_csv(\"data/formatted/csv/to_sql_daily_fields.csv\", index=False)"
   ]
  },
  {
   "cell_type": "markdown",
   "id": "8738ad91",
   "metadata": {},
   "source": [
    "### Planning Data Tables"
   ]
  },
  {
   "cell_type": "code",
   "execution_count": 278,
   "id": "ca3bcfe5",
   "metadata": {},
   "outputs": [],
   "source": [
    "def load_planning_data(file_path, plan_type):\n",
    "    _df = pd.read_csv(file_path, sep=';', skiprows=0, header=None)\n",
    "    _df.drop(columns=[0], inplace=True)\n",
    "    _df = _df.transpose()\n",
    "    _df.columns = _df.iloc[0]\n",
    "    _df = _df[1:]\n",
    "    for col in _df.columns[1:]:\n",
    "        _df[col] = (\n",
    "                    _df[col].str.replace('.', '')\n",
    "                    .str.replace(\",\", \".\")\n",
    "                    .astype(float)\n",
    "                )\n",
    "\n",
    "    fields = _df.columns.tolist()\n",
    "    fields.remove('field_cluster_id')\n",
    "    output = pd.DataFrame()\n",
    "    for field in fields:\n",
    "        _output_df = pd.DataFrame()\n",
    "        _output_df['report_date'] = pd.to_datetime(_df['field_cluster_id'], format='%d/%m/%Y', errors='coerce').dt.strftime('%d/%m/%Y')\n",
    "        _output_df['field_id'] = field\n",
    "        _output_df['plan_type'] = plan_type\n",
    "        _output_df['prod_ton'] = None\n",
    "        _output_df['prod_bbls'] = None\n",
    "        _output_df['prod_m3'] = None\n",
    "        _output_df['prod_ft3'] = None\n",
    "        if plan_type in ['KHQTGAS', 'KHSLCPGiaoGas']:\n",
    "            _output_df['prod_m3'] = _df[field].values\n",
    "            _output_df['prod_ft3'] = _df[field].values * 35.314666721\n",
    "        elif plan_type in ['KHQTOIL', 'KHSLCPGiaoOil']:\n",
    "            _output_df['prod_ton'] = _df[field].values\n",
    "        output = pd.concat([output, _output_df], ignore_index=True)\n",
    "    output.head()\n",
    "    return output\n",
    "\n",
    "KHQTGAS_path = \"data/formatted/csv/KHQTGAS.csv\"\n",
    "KHQTGAS_df = load_planning_data(KHQTGAS_path, plan_type='KHQTGAS')\n",
    "\n",
    "KHQTOIL_path = \"data/formatted/csv/KHQTOIL.csv\"\n",
    "KHQTOIL_df = load_planning_data(KHQTOIL_path, plan_type='KHQTOIL')\n",
    "\n",
    "KHSLCPGiaoGas_path = \"data/formatted/csv/KHSLCPGiaoGas.csv\"\n",
    "KHSLCPGiaoGas_df = load_planning_data(KHSLCPGiaoGas_path, plan_type='KHSLCPGiaoGas')\n",
    "\n",
    "KHSLCPGiaoOil_path = \"data/formatted/csv/KHSLCPGiaoOil.csv\"\n",
    "KHSLCPGiaoOil_df = load_planning_data(KHSLCPGiaoOil_path, plan_type='KHSLCPGiaoOil')"
   ]
  },
  {
   "cell_type": "code",
   "execution_count": null,
   "id": "33d294eb",
   "metadata": {},
   "outputs": [
    {
     "name": "stderr",
     "output_type": "stream",
     "text": [
      "/var/folders/r3/x33m7bkj4dxcdt5jwwgg27xc0000gn/T/ipykernel_90046/3039971112.py:1: FutureWarning: The behavior of DataFrame concatenation with empty or all-NA entries is deprecated. In a future version, this will no longer exclude empty or all-NA columns when determining the result dtypes. To retain the old behavior, exclude the relevant entries before the concat operation.\n",
      "  planning_df = pd.concat([KHQTGAS_df, KHQTOIL_df, KHSLCPGiaoGas_df, KHSLCPGiaoOil_df], ignore_index=True)\n"
     ]
    }
   ],
   "source": [
    "planning_df = pd.concat([KHQTGAS_df, KHQTOIL_df, KHSLCPGiaoGas_df, KHSLCPGiaoOil_df], ignore_index=True)\n",
    "planning_df.to_csv(\"data/formatted/csv/to_sql_planning_prod.csv\", index=False)"
   ]
  },
  {
   "cell_type": "markdown",
   "id": "2c78debb",
   "metadata": {},
   "source": [
    "### Daily Production Tables"
   ]
  },
  {
   "cell_type": "code",
   "execution_count": 280,
   "id": "a317fac3",
   "metadata": {},
   "outputs": [],
   "source": [
    "import pandas as pd\n",
    "def load_data(file_path):\n",
    "    daily_prod = pd.read_csv(file_path, sep=';', skiprows=1, header=None)\n",
    "    daily_prod.columns = daily_prod.iloc[0]\n",
    "    daily_prod = daily_prod[1:]\n",
    "    daily_prod.reset_index(drop=True, inplace=True)\n",
    "    daily_prod['DATE'] = pd.to_datetime(daily_prod['DATE'], format='%m/%d/%Y', errors='coerce')\n",
    "    daily_prod['DATE'] = daily_prod['DATE'].dt.strftime('%d/%m/%Y')\n",
    "    for col in daily_prod.columns[1:]:\n",
    "        daily_prod[col] = (\n",
    "                    daily_prod[col].str.replace('.', '')\n",
    "                    .str.replace(\",\", \".\")\n",
    "                    .astype(float)\n",
    "                )\n",
    "    return daily_prod\n",
    "\n",
    "def get_daily_data(daily_prod:pd.DataFrame, field_df:pd.DataFrame, prod_type:str) -> pd.DataFrame:\n",
    "    fields = daily_prod.columns.tolist()\n",
    "    fields.remove('DATE')\n",
    "    _formatted_df = pd.DataFrame()\n",
    "    for field in fields:\n",
    "        _df = pd.DataFrame()\n",
    "        _df['report_date'] = daily_prod['DATE']\n",
    "        _df['field_id'] = field\n",
    "        _df['prod_type'] = prod_type\n",
    "        unit = field_df.loc[(field_df['prod_type'] == prod_type) & (field_df['short_name'] == field), 'unit'].values\n",
    "        _df['prod_ton'] = None\n",
    "        _df['prod_bbls'] = None\n",
    "        _df['prod_m3'] = None\n",
    "        _df['prod_ft3'] = None\n",
    "        if prod_type == 'GAS_PROD' and unit == 'tr.m3':\n",
    "            _df['prod_m3'] = daily_prod[field].values\n",
    "            _df['prod_ft3'] = daily_prod[field].values * 35.314666721\n",
    "        elif prod_type == 'GAS_PROD' and unit == 'tr.ft3':\n",
    "            _df['prod_m3'] = daily_prod[field].values / 35.314666721\n",
    "            _df['prod_ft3'] = daily_prod[field].values\n",
    "        elif prod_type == 'OIL_PROD' and unit == 'ton':\n",
    "            conversion_factor = field_df.loc[(field_df['prod_type'] == prod_type) & (field_df['short_name'] == field), 'conversion_factor'].values\n",
    "            _df['prod_ton'] = daily_prod[field].values\n",
    "            _df['prod_bbls'] = daily_prod[field].values * conversion_factor\n",
    "        elif prod_type == 'OIL_PROD' and unit == 'bbls':\n",
    "            conversion_factor = field_df.loc[(field_df['prod_type'] == prod_type) & (field_df['short_name'] == field), 'conversion_factor'].values\n",
    "            _df['prod_ton'] = daily_prod[field].values / conversion_factor\n",
    "            _df['prod_bbls'] = daily_prod[field].values\n",
    "        _formatted_df = pd.concat([_formatted_df, _df], ignore_index=True)\n",
    "    return _formatted_df"
   ]
  },
  {
   "cell_type": "code",
   "execution_count": 281,
   "id": "9cf3599c",
   "metadata": {},
   "outputs": [
    {
     "name": "stderr",
     "output_type": "stream",
     "text": [
      "/var/folders/r3/x33m7bkj4dxcdt5jwwgg27xc0000gn/T/ipykernel_90046/1302699563.py:9: FutureWarning: The behavior of DataFrame concatenation with empty or all-NA entries is deprecated. In a future version, this will no longer exclude empty or all-NA columns when determining the result dtypes. To retain the old behavior, exclude the relevant entries before the concat operation.\n",
      "  full_daily_prod = pd.concat([daily_gas_prod_formatted, daily_oil_prod_formatted], ignore_index=True)\n"
     ]
    }
   ],
   "source": [
    "oil_file_path = \"data/formatted/csv/daily_oil_prod.csv\"\n",
    "daily_oil_prod = load_data(oil_file_path)\n",
    "daily_oil_prod_formatted = get_daily_data(daily_oil_prod, field_definition_df, prod_type = 'OIL_PROD')\n",
    "\n",
    "gas_file_path = \"data/formatted/csv/daily_gas_prod.csv\"\n",
    "daily_gas_prod = load_data(gas_file_path)\n",
    "daily_gas_prod_formatted = get_daily_data(daily_gas_prod, field_definition_df, prod_type = 'GAS_PROD')\n",
    "\n",
    "full_daily_prod = pd.concat([daily_gas_prod_formatted, daily_oil_prod_formatted], ignore_index=True)\n",
    "full_daily_prod.to_csv(\"data/formatted/csv/to_sql_daily_prod.csv\", index=False)"
   ]
  },
  {
   "cell_type": "code",
   "execution_count": null,
   "id": "62cb20e7",
   "metadata": {},
   "outputs": [],
   "source": []
  }
 ],
 "metadata": {
  "kernelspec": {
   "display_name": "apitcdk",
   "language": "python",
   "name": "python3"
  },
  "language_info": {
   "codemirror_mode": {
    "name": "ipython",
    "version": 3
   },
   "file_extension": ".py",
   "mimetype": "text/x-python",
   "name": "python",
   "nbconvert_exporter": "python",
   "pygments_lexer": "ipython3",
   "version": "3.11.11"
  }
 },
 "nbformat": 4,
 "nbformat_minor": 5
}
